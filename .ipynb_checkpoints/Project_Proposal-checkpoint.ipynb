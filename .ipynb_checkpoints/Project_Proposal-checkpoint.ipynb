{
 "cells": [
  {
   "cell_type": "markdown",
   "id": "161ed1d5-ce56-49ed-abb5-8ef1732b969e",
   "metadata": {},
   "source": [
    "# PROJECT PROPOSAL"
   ]
  },
  {
   "cell_type": "markdown",
   "id": "aa755fb6-4569-42ce-8e5b-7d8c12b182c9",
   "metadata": {},
   "source": [
    "### INTRODUCTION"
   ]
  },
  {
   "cell_type": "code",
   "execution_count": null,
   "id": "4d92832a-bca3-424e-bedb-231ad2152c0c",
   "metadata": {},
   "outputs": [],
   "source": []
  },
  {
   "cell_type": "markdown",
   "id": "92aa3028-b2f9-4d95-996d-e6c8e902969f",
   "metadata": {},
   "source": [
    "### PRELIMINARY RESULTS"
   ]
  },
  {
   "cell_type": "code",
   "execution_count": null,
   "id": "c2b65527-d845-451e-9106-fac6b426774a",
   "metadata": {},
   "outputs": [],
   "source": []
  },
  {
   "cell_type": "markdown",
   "id": "3ea26d94-cb37-4299-a318-bd668bfa509a",
   "metadata": {},
   "source": [
    "### METHODS: PLAN"
   ]
  },
  {
   "cell_type": "code",
   "execution_count": null,
   "id": "2db66587-2f8a-48e0-83a8-1128c8b947f3",
   "metadata": {},
   "outputs": [],
   "source": []
  },
  {
   "cell_type": "markdown",
   "id": "b52d97e8-fd31-4454-9d03-e599a93b55a1",
   "metadata": {},
   "source": [
    "### REFERENCES"
   ]
  }
 ],
 "metadata": {
  "kernelspec": {
   "display_name": "R",
   "language": "R",
   "name": "ir"
  },
  "language_info": {
   "codemirror_mode": "r",
   "file_extension": ".r",
   "mimetype": "text/x-r-source",
   "name": "R",
   "pygments_lexer": "r",
   "version": "4.1.3"
  }
 },
 "nbformat": 4,
 "nbformat_minor": 5
}
