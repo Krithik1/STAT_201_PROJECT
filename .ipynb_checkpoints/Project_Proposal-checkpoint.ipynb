{
 "cells": [
  {
   "cell_type": "markdown",
   "id": "161ed1d5-ce56-49ed-abb5-8ef1732b969e",
   "metadata": {},
   "source": [
    "# PROJECT PROPOSAL"
   ]
  },
  {
   "cell_type": "markdown",
   "id": "aa755fb6-4569-42ce-8e5b-7d8c12b182c9",
   "metadata": {},
   "source": [
    "### INTRODUCTION"
   ]
  },
  {
   "cell_type": "code",
   "execution_count": null,
   "id": "4d92832a-bca3-424e-bedb-231ad2152c0c",
   "metadata": {},
   "outputs": [],
   "source": []
  },
  {
   "cell_type": "code",
   "execution_count": null,
   "id": "cfb1be59-e419-4281-8d2a-02cc0265a637",
   "metadata": {},
   "outputs": [],
   "source": []
  },
  {
   "cell_type": "markdown",
   "id": "92aa3028-b2f9-4d95-996d-e6c8e902969f",
   "metadata": {},
   "source": [
    "### PRELIMINARY RESULTS"
   ]
  },
  {
   "cell_type": "code",
   "execution_count": 1,
   "id": "c2b65527-d845-451e-9106-fac6b426774a",
   "metadata": {},
   "outputs": [
    {
     "name": "stderr",
     "output_type": "stream",
     "text": [
      "── \u001b[1mAttaching packages\u001b[22m ─────────────────────────────────────── tidyverse 1.3.2 ──\n",
      "\u001b[32m✔\u001b[39m \u001b[34mggplot2\u001b[39m 3.3.6      \u001b[32m✔\u001b[39m \u001b[34mpurrr  \u001b[39m 0.3.4 \n",
      "\u001b[32m✔\u001b[39m \u001b[34mtibble \u001b[39m 3.1.8      \u001b[32m✔\u001b[39m \u001b[34mdplyr  \u001b[39m 1.0.10\n",
      "\u001b[32m✔\u001b[39m \u001b[34mtidyr  \u001b[39m 1.2.1      \u001b[32m✔\u001b[39m \u001b[34mstringr\u001b[39m 1.4.1 \n",
      "\u001b[32m✔\u001b[39m \u001b[34mreadr  \u001b[39m 2.1.2      \u001b[32m✔\u001b[39m \u001b[34mforcats\u001b[39m 0.5.2 \n",
      "── \u001b[1mConflicts\u001b[22m ────────────────────────────────────────── tidyverse_conflicts() ──\n",
      "\u001b[31m✖\u001b[39m \u001b[34mdplyr\u001b[39m::\u001b[32mfilter()\u001b[39m masks \u001b[34mstats\u001b[39m::filter()\n",
      "\u001b[31m✖\u001b[39m \u001b[34mdplyr\u001b[39m::\u001b[32mlag()\u001b[39m    masks \u001b[34mstats\u001b[39m::lag()\n",
      "\n",
      "Attaching package: ‘gridExtra’\n",
      "\n",
      "\n",
      "The following object is masked from ‘package:dplyr’:\n",
      "\n",
      "    combine\n",
      "\n",
      "\n"
     ]
    }
   ],
   "source": [
    "#Importing the libraries\n",
    "library(tidyverse)\n",
    "library(broom)\n",
    "library(repr)\n",
    "library(digest)\n",
    "library(infer)\n",
    "library(gridExtra)"
   ]
  },
  {
   "cell_type": "code",
   "execution_count": 2,
   "id": "14daccfd-47a7-464d-ba7e-7a4a6379e218",
   "metadata": {},
   "outputs": [
    {
     "name": "stderr",
     "output_type": "stream",
     "text": [
      "\u001b[1mRows: \u001b[22m\u001b[34m1405\u001b[39m \u001b[1mColumns: \u001b[22m\u001b[34m10\u001b[39m\n",
      "\u001b[36m──\u001b[39m \u001b[1mColumn specification\u001b[22m \u001b[36m────────────────────────────────────────────────────────\u001b[39m\n",
      "\u001b[1mDelimiter:\u001b[22m \",\"\n",
      "\u001b[31mchr\u001b[39m (3): TYPE, HUNDRED_BLOCK, NEIGHBOURHOOD\n",
      "\u001b[32mdbl\u001b[39m (7): YEAR, MONTH, DAY, HOUR, MINUTE, X, Y\n",
      "\n",
      "\u001b[36mℹ\u001b[39m Use `spec()` to retrieve the full column specification for this data.\n",
      "\u001b[36mℹ\u001b[39m Specify the column types or set `show_col_types = FALSE` to quiet this message.\n",
      "\u001b[1mRows: \u001b[22m\u001b[34m303\u001b[39m \u001b[1mColumns: \u001b[22m\u001b[34m10\u001b[39m\n",
      "\u001b[36m──\u001b[39m \u001b[1mColumn specification\u001b[22m \u001b[36m────────────────────────────────────────────────────────\u001b[39m\n",
      "\u001b[1mDelimiter:\u001b[22m \",\"\n",
      "\u001b[31mchr\u001b[39m (3): TYPE, HUNDRED_BLOCK, NEIGHBOURHOOD\n",
      "\u001b[32mdbl\u001b[39m (7): YEAR, MONTH, DAY, HOUR, MINUTE, X, Y\n",
      "\n",
      "\u001b[36mℹ\u001b[39m Use `spec()` to retrieve the full column specification for this data.\n",
      "\u001b[36mℹ\u001b[39m Specify the column types or set `show_col_types = FALSE` to quiet this message.\n"
     ]
    },
    {
     "data": {
      "text/html": [
       "<table class=\"dataframe\">\n",
       "<caption>A tibble: 6 × 10</caption>\n",
       "<thead>\n",
       "\t<tr><th scope=col>TYPE</th><th scope=col>YEAR</th><th scope=col>MONTH</th><th scope=col>DAY</th><th scope=col>HOUR</th><th scope=col>MINUTE</th><th scope=col>HUNDRED_BLOCK</th><th scope=col>NEIGHBOURHOOD</th><th scope=col>X</th><th scope=col>Y</th></tr>\n",
       "\t<tr><th scope=col>&lt;chr&gt;</th><th scope=col>&lt;dbl&gt;</th><th scope=col>&lt;dbl&gt;</th><th scope=col>&lt;dbl&gt;</th><th scope=col>&lt;dbl&gt;</th><th scope=col>&lt;dbl&gt;</th><th scope=col>&lt;chr&gt;</th><th scope=col>&lt;chr&gt;</th><th scope=col>&lt;dbl&gt;</th><th scope=col>&lt;dbl&gt;</th></tr>\n",
       "</thead>\n",
       "<tbody>\n",
       "\t<tr><td>Break and Enter Commercial</td><td>2022</td><td> 3</td><td>13</td><td>19</td><td>29</td><td>10XX W 15TH AVE    </td><td>Fairview</td><td>490661.7</td><td>5456122</td></tr>\n",
       "\t<tr><td>Break and Enter Commercial</td><td>2022</td><td> 5</td><td> 9</td><td> 6</td><td>21</td><td>10XX W 15TH AVE    </td><td>Fairview</td><td>490661.7</td><td>5456122</td></tr>\n",
       "\t<tr><td>Break and Enter Commercial</td><td>2022</td><td>10</td><td>28</td><td> 3</td><td> 3</td><td>10XX W BROADWAY AVE</td><td>Fairview</td><td>490662.8</td><td>5456754</td></tr>\n",
       "\t<tr><td>Break and Enter Commercial</td><td>2022</td><td> 5</td><td>11</td><td> 5</td><td>15</td><td>10XX W BROADWAY AVE</td><td>Fairview</td><td>490680.1</td><td>5456744</td></tr>\n",
       "\t<tr><td>Break and Enter Commercial</td><td>2022</td><td> 1</td><td>11</td><td> 0</td><td>18</td><td>10XX W BROADWAY AVE</td><td>Fairview</td><td>490755.7</td><td>5456742</td></tr>\n",
       "\t<tr><td>Break and Enter Commercial</td><td>2022</td><td> 2</td><td>15</td><td> 5</td><td>50</td><td>12XX W 12TH AVE    </td><td>Fairview</td><td>490274.4</td><td>5456452</td></tr>\n",
       "</tbody>\n",
       "</table>\n"
      ],
      "text/latex": [
       "A tibble: 6 × 10\n",
       "\\begin{tabular}{llllllllll}\n",
       " TYPE & YEAR & MONTH & DAY & HOUR & MINUTE & HUNDRED\\_BLOCK & NEIGHBOURHOOD & X & Y\\\\\n",
       " <chr> & <dbl> & <dbl> & <dbl> & <dbl> & <dbl> & <chr> & <chr> & <dbl> & <dbl>\\\\\n",
       "\\hline\n",
       "\t Break and Enter Commercial & 2022 &  3 & 13 & 19 & 29 & 10XX W 15TH AVE     & Fairview & 490661.7 & 5456122\\\\\n",
       "\t Break and Enter Commercial & 2022 &  5 &  9 &  6 & 21 & 10XX W 15TH AVE     & Fairview & 490661.7 & 5456122\\\\\n",
       "\t Break and Enter Commercial & 2022 & 10 & 28 &  3 &  3 & 10XX W BROADWAY AVE & Fairview & 490662.8 & 5456754\\\\\n",
       "\t Break and Enter Commercial & 2022 &  5 & 11 &  5 & 15 & 10XX W BROADWAY AVE & Fairview & 490680.1 & 5456744\\\\\n",
       "\t Break and Enter Commercial & 2022 &  1 & 11 &  0 & 18 & 10XX W BROADWAY AVE & Fairview & 490755.7 & 5456742\\\\\n",
       "\t Break and Enter Commercial & 2022 &  2 & 15 &  5 & 50 & 12XX W 12TH AVE     & Fairview & 490274.4 & 5456452\\\\\n",
       "\\end{tabular}\n"
      ],
      "text/markdown": [
       "\n",
       "A tibble: 6 × 10\n",
       "\n",
       "| TYPE &lt;chr&gt; | YEAR &lt;dbl&gt; | MONTH &lt;dbl&gt; | DAY &lt;dbl&gt; | HOUR &lt;dbl&gt; | MINUTE &lt;dbl&gt; | HUNDRED_BLOCK &lt;chr&gt; | NEIGHBOURHOOD &lt;chr&gt; | X &lt;dbl&gt; | Y &lt;dbl&gt; |\n",
       "|---|---|---|---|---|---|---|---|---|---|\n",
       "| Break and Enter Commercial | 2022 |  3 | 13 | 19 | 29 | 10XX W 15TH AVE     | Fairview | 490661.7 | 5456122 |\n",
       "| Break and Enter Commercial | 2022 |  5 |  9 |  6 | 21 | 10XX W 15TH AVE     | Fairview | 490661.7 | 5456122 |\n",
       "| Break and Enter Commercial | 2022 | 10 | 28 |  3 |  3 | 10XX W BROADWAY AVE | Fairview | 490662.8 | 5456754 |\n",
       "| Break and Enter Commercial | 2022 |  5 | 11 |  5 | 15 | 10XX W BROADWAY AVE | Fairview | 490680.1 | 5456744 |\n",
       "| Break and Enter Commercial | 2022 |  1 | 11 |  0 | 18 | 10XX W BROADWAY AVE | Fairview | 490755.7 | 5456742 |\n",
       "| Break and Enter Commercial | 2022 |  2 | 15 |  5 | 50 | 12XX W 12TH AVE     | Fairview | 490274.4 | 5456452 |\n",
       "\n"
      ],
      "text/plain": [
       "  TYPE                       YEAR MONTH DAY HOUR MINUTE HUNDRED_BLOCK      \n",
       "1 Break and Enter Commercial 2022  3    13  19   29     10XX W 15TH AVE    \n",
       "2 Break and Enter Commercial 2022  5     9   6   21     10XX W 15TH AVE    \n",
       "3 Break and Enter Commercial 2022 10    28   3    3     10XX W BROADWAY AVE\n",
       "4 Break and Enter Commercial 2022  5    11   5   15     10XX W BROADWAY AVE\n",
       "5 Break and Enter Commercial 2022  1    11   0   18     10XX W BROADWAY AVE\n",
       "6 Break and Enter Commercial 2022  2    15   5   50     12XX W 12TH AVE    \n",
       "  NEIGHBOURHOOD X        Y      \n",
       "1 Fairview      490661.7 5456122\n",
       "2 Fairview      490661.7 5456122\n",
       "3 Fairview      490662.8 5456754\n",
       "4 Fairview      490680.1 5456744\n",
       "5 Fairview      490755.7 5456742\n",
       "6 Fairview      490274.4 5456452"
      ]
     },
     "metadata": {},
     "output_type": "display_data"
    },
    {
     "data": {
      "text/html": [
       "<table class=\"dataframe\">\n",
       "<caption>A tibble: 6 × 10</caption>\n",
       "<thead>\n",
       "\t<tr><th scope=col>TYPE</th><th scope=col>YEAR</th><th scope=col>MONTH</th><th scope=col>DAY</th><th scope=col>HOUR</th><th scope=col>MINUTE</th><th scope=col>HUNDRED_BLOCK</th><th scope=col>NEIGHBOURHOOD</th><th scope=col>X</th><th scope=col>Y</th></tr>\n",
       "\t<tr><th scope=col>&lt;chr&gt;</th><th scope=col>&lt;dbl&gt;</th><th scope=col>&lt;dbl&gt;</th><th scope=col>&lt;dbl&gt;</th><th scope=col>&lt;dbl&gt;</th><th scope=col>&lt;dbl&gt;</th><th scope=col>&lt;chr&gt;</th><th scope=col>&lt;chr&gt;</th><th scope=col>&lt;dbl&gt;</th><th scope=col>&lt;dbl&gt;</th></tr>\n",
       "</thead>\n",
       "<tbody>\n",
       "\t<tr><td>Break and Enter Commercial</td><td>2022</td><td>8</td><td> 5</td><td> 9</td><td>53</td><td>19XX W 57TH AVE</td><td>Kerrisdale</td><td>488943.8</td><td>5451874</td></tr>\n",
       "\t<tr><td>Break and Enter Commercial</td><td>2022</td><td>1</td><td>26</td><td>16</td><td>59</td><td>20XX W 43RD AVE</td><td>Kerrisdale</td><td>488734.6</td><td>5453341</td></tr>\n",
       "\t<tr><td>Break and Enter Commercial</td><td>2022</td><td>1</td><td>29</td><td>17</td><td>30</td><td>20XX W 46TH AVE</td><td>Kerrisdale</td><td>488716.9</td><td>5453017</td></tr>\n",
       "\t<tr><td>Break and Enter Commercial</td><td>2022</td><td>3</td><td>10</td><td> 0</td><td> 0</td><td>20XX W 46TH AVE</td><td>Kerrisdale</td><td>488716.9</td><td>5453017</td></tr>\n",
       "\t<tr><td>Break and Enter Commercial</td><td>2022</td><td>7</td><td>15</td><td>20</td><td> 0</td><td>21XX W 42ND AVE</td><td>Kerrisdale</td><td>488489.6</td><td>5453446</td></tr>\n",
       "\t<tr><td>Break and Enter Commercial</td><td>2022</td><td>1</td><td>18</td><td> 4</td><td> 0</td><td>21XX W 46TH AVE</td><td>Kerrisdale</td><td>488637.8</td><td>5453019</td></tr>\n",
       "</tbody>\n",
       "</table>\n"
      ],
      "text/latex": [
       "A tibble: 6 × 10\n",
       "\\begin{tabular}{llllllllll}\n",
       " TYPE & YEAR & MONTH & DAY & HOUR & MINUTE & HUNDRED\\_BLOCK & NEIGHBOURHOOD & X & Y\\\\\n",
       " <chr> & <dbl> & <dbl> & <dbl> & <dbl> & <dbl> & <chr> & <chr> & <dbl> & <dbl>\\\\\n",
       "\\hline\n",
       "\t Break and Enter Commercial & 2022 & 8 &  5 &  9 & 53 & 19XX W 57TH AVE & Kerrisdale & 488943.8 & 5451874\\\\\n",
       "\t Break and Enter Commercial & 2022 & 1 & 26 & 16 & 59 & 20XX W 43RD AVE & Kerrisdale & 488734.6 & 5453341\\\\\n",
       "\t Break and Enter Commercial & 2022 & 1 & 29 & 17 & 30 & 20XX W 46TH AVE & Kerrisdale & 488716.9 & 5453017\\\\\n",
       "\t Break and Enter Commercial & 2022 & 3 & 10 &  0 &  0 & 20XX W 46TH AVE & Kerrisdale & 488716.9 & 5453017\\\\\n",
       "\t Break and Enter Commercial & 2022 & 7 & 15 & 20 &  0 & 21XX W 42ND AVE & Kerrisdale & 488489.6 & 5453446\\\\\n",
       "\t Break and Enter Commercial & 2022 & 1 & 18 &  4 &  0 & 21XX W 46TH AVE & Kerrisdale & 488637.8 & 5453019\\\\\n",
       "\\end{tabular}\n"
      ],
      "text/markdown": [
       "\n",
       "A tibble: 6 × 10\n",
       "\n",
       "| TYPE &lt;chr&gt; | YEAR &lt;dbl&gt; | MONTH &lt;dbl&gt; | DAY &lt;dbl&gt; | HOUR &lt;dbl&gt; | MINUTE &lt;dbl&gt; | HUNDRED_BLOCK &lt;chr&gt; | NEIGHBOURHOOD &lt;chr&gt; | X &lt;dbl&gt; | Y &lt;dbl&gt; |\n",
       "|---|---|---|---|---|---|---|---|---|---|\n",
       "| Break and Enter Commercial | 2022 | 8 |  5 |  9 | 53 | 19XX W 57TH AVE | Kerrisdale | 488943.8 | 5451874 |\n",
       "| Break and Enter Commercial | 2022 | 1 | 26 | 16 | 59 | 20XX W 43RD AVE | Kerrisdale | 488734.6 | 5453341 |\n",
       "| Break and Enter Commercial | 2022 | 1 | 29 | 17 | 30 | 20XX W 46TH AVE | Kerrisdale | 488716.9 | 5453017 |\n",
       "| Break and Enter Commercial | 2022 | 3 | 10 |  0 |  0 | 20XX W 46TH AVE | Kerrisdale | 488716.9 | 5453017 |\n",
       "| Break and Enter Commercial | 2022 | 7 | 15 | 20 |  0 | 21XX W 42ND AVE | Kerrisdale | 488489.6 | 5453446 |\n",
       "| Break and Enter Commercial | 2022 | 1 | 18 |  4 |  0 | 21XX W 46TH AVE | Kerrisdale | 488637.8 | 5453019 |\n",
       "\n"
      ],
      "text/plain": [
       "  TYPE                       YEAR MONTH DAY HOUR MINUTE HUNDRED_BLOCK  \n",
       "1 Break and Enter Commercial 2022 8      5   9   53     19XX W 57TH AVE\n",
       "2 Break and Enter Commercial 2022 1     26  16   59     20XX W 43RD AVE\n",
       "3 Break and Enter Commercial 2022 1     29  17   30     20XX W 46TH AVE\n",
       "4 Break and Enter Commercial 2022 3     10   0    0     20XX W 46TH AVE\n",
       "5 Break and Enter Commercial 2022 7     15  20    0     21XX W 42ND AVE\n",
       "6 Break and Enter Commercial 2022 1     18   4    0     21XX W 46TH AVE\n",
       "  NEIGHBOURHOOD X        Y      \n",
       "1 Kerrisdale    488943.8 5451874\n",
       "2 Kerrisdale    488734.6 5453341\n",
       "3 Kerrisdale    488716.9 5453017\n",
       "4 Kerrisdale    488716.9 5453017\n",
       "5 Kerrisdale    488489.6 5453446\n",
       "6 Kerrisdale    488637.8 5453019"
      ]
     },
     "metadata": {},
     "output_type": "display_data"
    }
   ],
   "source": [
    "#The datasets are downloaded from https://geodash.vpd.ca/opendata/#\n",
    "#For the fairview dataset the year 2022 and neighbourhood Fairview was selected and the data was downloaded\n",
    "#For the kerrisdale dataset the year 2022 and neighbourhood Kerrisdale was selected and the data was downloaded\n",
    "#The datasets were uploaded to jupyter hub\n",
    "crimedata_fairview_2022 <- read_csv(\"crimedata_csv_Fairview_2022.csv\")\n",
    "crimedata_kerrisdale_2022 <- read_csv(\"crimedata_csv_Kerrisdale_2022.csv\")\n",
    "\n",
    "head(crimedata_fairview_2022)\n",
    "head(crimedata_kerrisdale_2022)"
   ]
  },
  {
   "cell_type": "code",
   "execution_count": 3,
   "id": "952e3180-f3dc-47df-bf0e-03d2c2f5bbf0",
   "metadata": {},
   "outputs": [
    {
     "data": {
      "text/html": [
       "<table class=\"dataframe\">\n",
       "<caption>A tibble: 9 × 2</caption>\n",
       "<thead>\n",
       "\t<tr><th scope=col>TYPE</th><th scope=col>n</th></tr>\n",
       "\t<tr><th scope=col>&lt;chr&gt;</th><th scope=col>&lt;int&gt;</th></tr>\n",
       "</thead>\n",
       "<tbody>\n",
       "\t<tr><td>Break and Enter Commercial                          </td><td> 99</td></tr>\n",
       "\t<tr><td>Break and Enter Residential/Other                   </td><td> 62</td></tr>\n",
       "\t<tr><td>Mischief                                            </td><td>203</td></tr>\n",
       "\t<tr><td>Offence Against a Person                            </td><td> 80</td></tr>\n",
       "\t<tr><td>Other Theft                                         </td><td>465</td></tr>\n",
       "\t<tr><td>Theft from Vehicle                                  </td><td>264</td></tr>\n",
       "\t<tr><td>Theft of Bicycle                                    </td><td>172</td></tr>\n",
       "\t<tr><td>Theft of Vehicle                                    </td><td> 33</td></tr>\n",
       "\t<tr><td>Vehicle Collision or Pedestrian Struck (with Injury)</td><td> 27</td></tr>\n",
       "</tbody>\n",
       "</table>\n"
      ],
      "text/latex": [
       "A tibble: 9 × 2\n",
       "\\begin{tabular}{ll}\n",
       " TYPE & n\\\\\n",
       " <chr> & <int>\\\\\n",
       "\\hline\n",
       "\t Break and Enter Commercial                           &  99\\\\\n",
       "\t Break and Enter Residential/Other                    &  62\\\\\n",
       "\t Mischief                                             & 203\\\\\n",
       "\t Offence Against a Person                             &  80\\\\\n",
       "\t Other Theft                                          & 465\\\\\n",
       "\t Theft from Vehicle                                   & 264\\\\\n",
       "\t Theft of Bicycle                                     & 172\\\\\n",
       "\t Theft of Vehicle                                     &  33\\\\\n",
       "\t Vehicle Collision or Pedestrian Struck (with Injury) &  27\\\\\n",
       "\\end{tabular}\n"
      ],
      "text/markdown": [
       "\n",
       "A tibble: 9 × 2\n",
       "\n",
       "| TYPE &lt;chr&gt; | n &lt;int&gt; |\n",
       "|---|---|\n",
       "| Break and Enter Commercial                           |  99 |\n",
       "| Break and Enter Residential/Other                    |  62 |\n",
       "| Mischief                                             | 203 |\n",
       "| Offence Against a Person                             |  80 |\n",
       "| Other Theft                                          | 465 |\n",
       "| Theft from Vehicle                                   | 264 |\n",
       "| Theft of Bicycle                                     | 172 |\n",
       "| Theft of Vehicle                                     |  33 |\n",
       "| Vehicle Collision or Pedestrian Struck (with Injury) |  27 |\n",
       "\n"
      ],
      "text/plain": [
       "  TYPE                                                 n  \n",
       "1 Break and Enter Commercial                            99\n",
       "2 Break and Enter Residential/Other                     62\n",
       "3 Mischief                                             203\n",
       "4 Offence Against a Person                              80\n",
       "5 Other Theft                                          465\n",
       "6 Theft from Vehicle                                   264\n",
       "7 Theft of Bicycle                                     172\n",
       "8 Theft of Vehicle                                      33\n",
       "9 Vehicle Collision or Pedestrian Struck (with Injury)  27"
      ]
     },
     "metadata": {},
     "output_type": "display_data"
    },
    {
     "data": {
      "text/html": [
       "<table class=\"dataframe\">\n",
       "<caption>A tibble: 10 × 2</caption>\n",
       "<thead>\n",
       "\t<tr><th scope=col>TYPE</th><th scope=col>n</th></tr>\n",
       "\t<tr><th scope=col>&lt;chr&gt;</th><th scope=col>&lt;int&gt;</th></tr>\n",
       "</thead>\n",
       "<tbody>\n",
       "\t<tr><td>Break and Enter Commercial                            </td><td>22</td></tr>\n",
       "\t<tr><td>Break and Enter Residential/Other                     </td><td>45</td></tr>\n",
       "\t<tr><td>Mischief                                              </td><td>34</td></tr>\n",
       "\t<tr><td>Offence Against a Person                              </td><td>20</td></tr>\n",
       "\t<tr><td>Other Theft                                           </td><td>81</td></tr>\n",
       "\t<tr><td>Theft from Vehicle                                    </td><td>51</td></tr>\n",
       "\t<tr><td>Theft of Bicycle                                      </td><td>19</td></tr>\n",
       "\t<tr><td>Theft of Vehicle                                      </td><td> 6</td></tr>\n",
       "\t<tr><td>Vehicle Collision or Pedestrian Struck (with Fatality)</td><td> 1</td></tr>\n",
       "\t<tr><td>Vehicle Collision or Pedestrian Struck (with Injury)  </td><td>24</td></tr>\n",
       "</tbody>\n",
       "</table>\n"
      ],
      "text/latex": [
       "A tibble: 10 × 2\n",
       "\\begin{tabular}{ll}\n",
       " TYPE & n\\\\\n",
       " <chr> & <int>\\\\\n",
       "\\hline\n",
       "\t Break and Enter Commercial                             & 22\\\\\n",
       "\t Break and Enter Residential/Other                      & 45\\\\\n",
       "\t Mischief                                               & 34\\\\\n",
       "\t Offence Against a Person                               & 20\\\\\n",
       "\t Other Theft                                            & 81\\\\\n",
       "\t Theft from Vehicle                                     & 51\\\\\n",
       "\t Theft of Bicycle                                       & 19\\\\\n",
       "\t Theft of Vehicle                                       &  6\\\\\n",
       "\t Vehicle Collision or Pedestrian Struck (with Fatality) &  1\\\\\n",
       "\t Vehicle Collision or Pedestrian Struck (with Injury)   & 24\\\\\n",
       "\\end{tabular}\n"
      ],
      "text/markdown": [
       "\n",
       "A tibble: 10 × 2\n",
       "\n",
       "| TYPE &lt;chr&gt; | n &lt;int&gt; |\n",
       "|---|---|\n",
       "| Break and Enter Commercial                             | 22 |\n",
       "| Break and Enter Residential/Other                      | 45 |\n",
       "| Mischief                                               | 34 |\n",
       "| Offence Against a Person                               | 20 |\n",
       "| Other Theft                                            | 81 |\n",
       "| Theft from Vehicle                                     | 51 |\n",
       "| Theft of Bicycle                                       | 19 |\n",
       "| Theft of Vehicle                                       |  6 |\n",
       "| Vehicle Collision or Pedestrian Struck (with Fatality) |  1 |\n",
       "| Vehicle Collision or Pedestrian Struck (with Injury)   | 24 |\n",
       "\n"
      ],
      "text/plain": [
       "   TYPE                                                   n \n",
       "1  Break and Enter Commercial                             22\n",
       "2  Break and Enter Residential/Other                      45\n",
       "3  Mischief                                               34\n",
       "4  Offence Against a Person                               20\n",
       "5  Other Theft                                            81\n",
       "6  Theft from Vehicle                                     51\n",
       "7  Theft of Bicycle                                       19\n",
       "8  Theft of Vehicle                                        6\n",
       "9  Vehicle Collision or Pedestrian Struck (with Fatality)  1\n",
       "10 Vehicle Collision or Pedestrian Struck (with Injury)   24"
      ]
     },
     "metadata": {},
     "output_type": "display_data"
    }
   ],
   "source": [
    "crimedata_fairview_2022 %>% group_by(TYPE) %>% summarise(n = n())\n",
    "crimedata_kerrisdale_2022 %>% group_by(TYPE) %>% summarise(n = n())"
   ]
  },
  {
   "cell_type": "markdown",
   "id": "3ea26d94-cb37-4299-a318-bd668bfa509a",
   "metadata": {},
   "source": [
    "### METHODS: PLAN"
   ]
  },
  {
   "cell_type": "code",
   "execution_count": null,
   "id": "2db66587-2f8a-48e0-83a8-1128c8b947f3",
   "metadata": {},
   "outputs": [],
   "source": []
  },
  {
   "cell_type": "markdown",
   "id": "b52d97e8-fd31-4454-9d03-e599a93b55a1",
   "metadata": {},
   "source": [
    "### REFERENCES"
   ]
  }
 ],
 "metadata": {
  "kernelspec": {
   "display_name": "R",
   "language": "R",
   "name": "ir"
  },
  "language_info": {
   "codemirror_mode": "r",
   "file_extension": ".r",
   "mimetype": "text/x-r-source",
   "name": "R",
   "pygments_lexer": "r",
   "version": "4.1.3"
  }
 },
 "nbformat": 4,
 "nbformat_minor": 5
}
