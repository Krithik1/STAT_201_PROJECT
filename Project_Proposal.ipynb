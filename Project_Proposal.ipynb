{
 "cells": [
  {
   "cell_type": "markdown",
   "id": "161ed1d5-ce56-49ed-abb5-8ef1732b969e",
   "metadata": {},
   "source": [
    "# PROJECT PROPOSAL"
   ]
  },
  {
   "cell_type": "markdown",
   "id": "aa755fb6-4569-42ce-8e5b-7d8c12b182c9",
   "metadata": {},
   "source": [
    "### INTRODUCTION"
   ]
  },
  {
   "cell_type": "markdown",
   "id": "92aa3028-b2f9-4d95-996d-e6c8e902969f",
   "metadata": {},
   "source": [
    "### PRELIMINARY RESULTS"
   ]
  },
  {
   "cell_type": "markdown",
   "id": "3ea26d94-cb37-4299-a318-bd668bfa509a",
   "metadata": {},
   "source": []
  }
 ],
 "metadata": {
  "kernelspec": {
   "display_name": "R",
   "language": "R",
   "name": "ir"
  },
  "language_info": {
   "codemirror_mode": "r",
   "file_extension": ".r",
   "mimetype": "text/x-r-source",
   "name": "R",
   "pygments_lexer": "r",
   "version": "4.1.3"
  }
 },
 "nbformat": 4,
 "nbformat_minor": 5
}
