{
 "cells": [
  {
   "cell_type": "markdown",
   "id": "161ed1d5-ce56-49ed-abb5-8ef1732b969e",
   "metadata": {},
   "source": [
    "# PROJECT PROPOSAL"
   ]
  },
  {
   "cell_type": "markdown",
   "id": "aa755fb6-4569-42ce-8e5b-7d8c12b182c9",
   "metadata": {},
   "source": [
    "### INTRODUCTION"
   ]
  },
  {
   "cell_type": "markdown",
   "id": "f0b37918-44e0-44e0-9971-9737c1cbd150",
   "metadata": {},
   "source": [
    "According to a study co-authored by Simon Fraser University researchers, theft-related crimes increased in wealthier neighbourhoods, such as Kerrisdale, during the pandemic (1). They suspect that this increase is related to the decrease in theft around downtown and its surrounding neighbourhoods, which they expected as businesses closed down and employees started working from home. We will be determining whether the proportion of theft crimes in wealthier neighbourhoods, such as Kerrisdale, increased during the pandemic compared to earlier years. Our response variables would be the proportion of theft crimes in Kerrisdale during the years 2018 and 2020. The location parameter would be the difference in proportions between the two years, while the scale parameter would be the standard error of that difference. "
   ]
  },
  {
   "cell_type": "markdown",
   "id": "48cacfbd-f051-464b-8e36-b32c28c186dd",
   "metadata": {},
   "source": [
    "We will be using crime data from the Vancouver Police Department as our datasets. They can be accessed here: https://geodash.vpd.ca/opendata/. Within the website, we were able to select a specific year and neighbourhood(s) to view crime data from. We selected crime data from all neighbourhoods during the years 2018 and 2020. Each tuple lists the type of crime, the date it occured (in separate year, month, day, hour, minute columns), and the location it occured. Theft-related crimes are classified as either \"Theft of Vehicle\", \"Theft of Bicycle\", \"Theft from Vehicle\", or \"Other Theft\" under the TYPE column. To find the proportions of theft crime in Kerrisdale for a specific year, we will first filter for all theft-related crimes in our dataset. Then, we will find all theft crimes in Kerrisdale by filtering for NEIGHBOURHOOD=\"Kerrisdale\", and divide those number of theft crimes by the total number of theft crimes that happened that year in all neighbourhoods. "
   ]
  },
  {
   "cell_type": "markdown",
   "id": "92aa3028-b2f9-4d95-996d-e6c8e902969f",
   "metadata": {},
   "source": [
    "### PRELIMINARY RESULTS"
   ]
  },
  {
   "cell_type": "code",
   "execution_count": 2,
   "id": "c2b65527-d845-451e-9106-fac6b426774a",
   "metadata": {},
   "outputs": [
    {
     "name": "stderr",
     "output_type": "stream",
     "text": [
      "── \u001b[1mAttaching packages\u001b[22m ─────────────────────────────────────── tidyverse 1.3.2 ──\n",
      "\u001b[32m✔\u001b[39m \u001b[34mggplot2\u001b[39m 3.3.6      \u001b[32m✔\u001b[39m \u001b[34mpurrr  \u001b[39m 0.3.4 \n",
      "\u001b[32m✔\u001b[39m \u001b[34mtibble \u001b[39m 3.1.8      \u001b[32m✔\u001b[39m \u001b[34mdplyr  \u001b[39m 1.0.10\n",
      "\u001b[32m✔\u001b[39m \u001b[34mtidyr  \u001b[39m 1.2.1      \u001b[32m✔\u001b[39m \u001b[34mstringr\u001b[39m 1.4.1 \n",
      "\u001b[32m✔\u001b[39m \u001b[34mreadr  \u001b[39m 2.1.2      \u001b[32m✔\u001b[39m \u001b[34mforcats\u001b[39m 0.5.2 \n",
      "── \u001b[1mConflicts\u001b[22m ────────────────────────────────────────── tidyverse_conflicts() ──\n",
      "\u001b[31m✖\u001b[39m \u001b[34mdplyr\u001b[39m::\u001b[32mfilter()\u001b[39m masks \u001b[34mstats\u001b[39m::filter()\n",
      "\u001b[31m✖\u001b[39m \u001b[34mdplyr\u001b[39m::\u001b[32mlag()\u001b[39m    masks \u001b[34mstats\u001b[39m::lag()\n",
      "\n",
      "Attaching package: ‘gridExtra’\n",
      "\n",
      "\n",
      "The following object is masked from ‘package:dplyr’:\n",
      "\n",
      "    combine\n",
      "\n",
      "\n"
     ]
    }
   ],
   "source": [
    "#Importing the libraries\n",
    "library(tidyverse)\n",
    "library(broom)\n",
    "library(repr)\n",
    "library(digest)\n",
    "library(infer)\n",
    "library(gridExtra)"
   ]
  },
  {
   "cell_type": "code",
   "execution_count": 4,
   "id": "14daccfd-47a7-464d-ba7e-7a4a6379e218",
   "metadata": {},
   "outputs": [
    {
     "name": "stderr",
     "output_type": "stream",
     "text": [
      "\u001b[1mRows: \u001b[22m\u001b[34m44280\u001b[39m \u001b[1mColumns: \u001b[22m\u001b[34m10\u001b[39m\n",
      "\u001b[36m──\u001b[39m \u001b[1mColumn specification\u001b[22m \u001b[36m────────────────────────────────────────────────────────\u001b[39m\n",
      "\u001b[1mDelimiter:\u001b[22m \",\"\n",
      "\u001b[31mchr\u001b[39m (3): TYPE, HUNDRED_BLOCK, NEIGHBOURHOOD\n",
      "\u001b[32mdbl\u001b[39m (7): YEAR, MONTH, DAY, HOUR, MINUTE, X, Y\n",
      "\n",
      "\u001b[36mℹ\u001b[39m Use `spec()` to retrieve the full column specification for this data.\n",
      "\u001b[36mℹ\u001b[39m Specify the column types or set `show_col_types = FALSE` to quiet this message.\n",
      "\u001b[1mRows: \u001b[22m\u001b[34m37516\u001b[39m \u001b[1mColumns: \u001b[22m\u001b[34m10\u001b[39m\n",
      "\u001b[36m──\u001b[39m \u001b[1mColumn specification\u001b[22m \u001b[36m────────────────────────────────────────────────────────\u001b[39m\n",
      "\u001b[1mDelimiter:\u001b[22m \",\"\n",
      "\u001b[31mchr\u001b[39m (3): TYPE, HUNDRED_BLOCK, NEIGHBOURHOOD\n",
      "\u001b[32mdbl\u001b[39m (7): YEAR, MONTH, DAY, HOUR, MINUTE, X, Y\n",
      "\n",
      "\u001b[36mℹ\u001b[39m Use `spec()` to retrieve the full column specification for this data.\n",
      "\u001b[36mℹ\u001b[39m Specify the column types or set `show_col_types = FALSE` to quiet this message.\n"
     ]
    },
    {
     "data": {
      "text/html": [
       "<table class=\"dataframe\">\n",
       "<caption>A tibble: 6 × 10</caption>\n",
       "<thead>\n",
       "\t<tr><th scope=col>TYPE</th><th scope=col>YEAR</th><th scope=col>MONTH</th><th scope=col>DAY</th><th scope=col>HOUR</th><th scope=col>MINUTE</th><th scope=col>HUNDRED_BLOCK</th><th scope=col>NEIGHBOURHOOD</th><th scope=col>X</th><th scope=col>Y</th></tr>\n",
       "\t<tr><th scope=col>&lt;chr&gt;</th><th scope=col>&lt;dbl&gt;</th><th scope=col>&lt;dbl&gt;</th><th scope=col>&lt;dbl&gt;</th><th scope=col>&lt;dbl&gt;</th><th scope=col>&lt;dbl&gt;</th><th scope=col>&lt;chr&gt;</th><th scope=col>&lt;chr&gt;</th><th scope=col>&lt;dbl&gt;</th><th scope=col>&lt;dbl&gt;</th></tr>\n",
       "</thead>\n",
       "<tbody>\n",
       "\t<tr><td>Break and Enter Commercial</td><td>2018</td><td> 6</td><td>16</td><td>18</td><td> 0</td><td>10XX ALBERNI ST </td><td>West End                 </td><td>491102.2</td><td>5459092</td></tr>\n",
       "\t<tr><td>Break and Enter Commercial</td><td>2018</td><td>12</td><td>12</td><td> 0</td><td> 0</td><td>10XX BEACH AVE  </td><td>West End                 </td><td>490228.8</td><td>5458208</td></tr>\n",
       "\t<tr><td>Break and Enter Commercial</td><td>2018</td><td> 4</td><td> 9</td><td> 6</td><td> 0</td><td>10XX BEACH AVE  </td><td>Central Business District</td><td>490249.2</td><td>5458167</td></tr>\n",
       "\t<tr><td>Break and Enter Commercial</td><td>2018</td><td>10</td><td> 2</td><td>18</td><td>31</td><td>10XX BEACH AVE  </td><td>Central Business District</td><td>490258.4</td><td>5458155</td></tr>\n",
       "\t<tr><td>Break and Enter Commercial</td><td>2018</td><td> 2</td><td>17</td><td>15</td><td> 0</td><td>10XX BEACH AVE  </td><td>Central Business District</td><td>490269.9</td><td>5458141</td></tr>\n",
       "\t<tr><td>Break and Enter Commercial</td><td>2018</td><td> 5</td><td>16</td><td>17</td><td> 0</td><td>10XX BOUNDARY RD</td><td>Hastings-Sunrise         </td><td>498275.6</td><td>5458125</td></tr>\n",
       "</tbody>\n",
       "</table>\n"
      ],
      "text/latex": [
       "A tibble: 6 × 10\n",
       "\\begin{tabular}{llllllllll}\n",
       " TYPE & YEAR & MONTH & DAY & HOUR & MINUTE & HUNDRED\\_BLOCK & NEIGHBOURHOOD & X & Y\\\\\n",
       " <chr> & <dbl> & <dbl> & <dbl> & <dbl> & <dbl> & <chr> & <chr> & <dbl> & <dbl>\\\\\n",
       "\\hline\n",
       "\t Break and Enter Commercial & 2018 &  6 & 16 & 18 &  0 & 10XX ALBERNI ST  & West End                  & 491102.2 & 5459092\\\\\n",
       "\t Break and Enter Commercial & 2018 & 12 & 12 &  0 &  0 & 10XX BEACH AVE   & West End                  & 490228.8 & 5458208\\\\\n",
       "\t Break and Enter Commercial & 2018 &  4 &  9 &  6 &  0 & 10XX BEACH AVE   & Central Business District & 490249.2 & 5458167\\\\\n",
       "\t Break and Enter Commercial & 2018 & 10 &  2 & 18 & 31 & 10XX BEACH AVE   & Central Business District & 490258.4 & 5458155\\\\\n",
       "\t Break and Enter Commercial & 2018 &  2 & 17 & 15 &  0 & 10XX BEACH AVE   & Central Business District & 490269.9 & 5458141\\\\\n",
       "\t Break and Enter Commercial & 2018 &  5 & 16 & 17 &  0 & 10XX BOUNDARY RD & Hastings-Sunrise          & 498275.6 & 5458125\\\\\n",
       "\\end{tabular}\n"
      ],
      "text/markdown": [
       "\n",
       "A tibble: 6 × 10\n",
       "\n",
       "| TYPE &lt;chr&gt; | YEAR &lt;dbl&gt; | MONTH &lt;dbl&gt; | DAY &lt;dbl&gt; | HOUR &lt;dbl&gt; | MINUTE &lt;dbl&gt; | HUNDRED_BLOCK &lt;chr&gt; | NEIGHBOURHOOD &lt;chr&gt; | X &lt;dbl&gt; | Y &lt;dbl&gt; |\n",
       "|---|---|---|---|---|---|---|---|---|---|\n",
       "| Break and Enter Commercial | 2018 |  6 | 16 | 18 |  0 | 10XX ALBERNI ST  | West End                  | 491102.2 | 5459092 |\n",
       "| Break and Enter Commercial | 2018 | 12 | 12 |  0 |  0 | 10XX BEACH AVE   | West End                  | 490228.8 | 5458208 |\n",
       "| Break and Enter Commercial | 2018 |  4 |  9 |  6 |  0 | 10XX BEACH AVE   | Central Business District | 490249.2 | 5458167 |\n",
       "| Break and Enter Commercial | 2018 | 10 |  2 | 18 | 31 | 10XX BEACH AVE   | Central Business District | 490258.4 | 5458155 |\n",
       "| Break and Enter Commercial | 2018 |  2 | 17 | 15 |  0 | 10XX BEACH AVE   | Central Business District | 490269.9 | 5458141 |\n",
       "| Break and Enter Commercial | 2018 |  5 | 16 | 17 |  0 | 10XX BOUNDARY RD | Hastings-Sunrise          | 498275.6 | 5458125 |\n",
       "\n"
      ],
      "text/plain": [
       "  TYPE                       YEAR MONTH DAY HOUR MINUTE HUNDRED_BLOCK   \n",
       "1 Break and Enter Commercial 2018  6    16  18    0     10XX ALBERNI ST \n",
       "2 Break and Enter Commercial 2018 12    12   0    0     10XX BEACH AVE  \n",
       "3 Break and Enter Commercial 2018  4     9   6    0     10XX BEACH AVE  \n",
       "4 Break and Enter Commercial 2018 10     2  18   31     10XX BEACH AVE  \n",
       "5 Break and Enter Commercial 2018  2    17  15    0     10XX BEACH AVE  \n",
       "6 Break and Enter Commercial 2018  5    16  17    0     10XX BOUNDARY RD\n",
       "  NEIGHBOURHOOD             X        Y      \n",
       "1 West End                  491102.2 5459092\n",
       "2 West End                  490228.8 5458208\n",
       "3 Central Business District 490249.2 5458167\n",
       "4 Central Business District 490258.4 5458155\n",
       "5 Central Business District 490269.9 5458141\n",
       "6 Hastings-Sunrise          498275.6 5458125"
      ]
     },
     "metadata": {},
     "output_type": "display_data"
    },
    {
     "data": {
      "text/html": [
       "<table class=\"dataframe\">\n",
       "<caption>A tibble: 6 × 10</caption>\n",
       "<thead>\n",
       "\t<tr><th scope=col>TYPE</th><th scope=col>YEAR</th><th scope=col>MONTH</th><th scope=col>DAY</th><th scope=col>HOUR</th><th scope=col>MINUTE</th><th scope=col>HUNDRED_BLOCK</th><th scope=col>NEIGHBOURHOOD</th><th scope=col>X</th><th scope=col>Y</th></tr>\n",
       "\t<tr><th scope=col>&lt;chr&gt;</th><th scope=col>&lt;dbl&gt;</th><th scope=col>&lt;dbl&gt;</th><th scope=col>&lt;dbl&gt;</th><th scope=col>&lt;dbl&gt;</th><th scope=col>&lt;dbl&gt;</th><th scope=col>&lt;chr&gt;</th><th scope=col>&lt;chr&gt;</th><th scope=col>&lt;dbl&gt;</th><th scope=col>&lt;dbl&gt;</th></tr>\n",
       "</thead>\n",
       "<tbody>\n",
       "\t<tr><td>Break and Enter Commercial</td><td>2020</td><td>6</td><td>19</td><td> 3</td><td>40</td><td>10XX ALBERNI ST</td><td>West End</td><td>491059.5</td><td>5459122</td></tr>\n",
       "\t<tr><td>Break and Enter Commercial</td><td>2020</td><td>1</td><td> 3</td><td> 6</td><td>43</td><td>10XX ALBERNI ST</td><td>West End</td><td>491068.7</td><td>5459126</td></tr>\n",
       "\t<tr><td>Break and Enter Commercial</td><td>2020</td><td>9</td><td>27</td><td>20</td><td> 0</td><td>10XX ALBERNI ST</td><td>West End</td><td>491073.1</td><td>5459109</td></tr>\n",
       "\t<tr><td>Break and Enter Commercial</td><td>2020</td><td>6</td><td>28</td><td> 6</td><td>50</td><td>10XX ALBERNI ST</td><td>West End</td><td>491102.2</td><td>5459092</td></tr>\n",
       "\t<tr><td>Break and Enter Commercial</td><td>2020</td><td>2</td><td> 5</td><td> 0</td><td> 0</td><td>10XX BEACH AVE </td><td>West End</td><td>490227.2</td><td>5458210</td></tr>\n",
       "\t<tr><td>Break and Enter Commercial</td><td>2020</td><td>2</td><td>11</td><td>13</td><td>35</td><td>10XX BEACH AVE </td><td>West End</td><td>490227.2</td><td>5458210</td></tr>\n",
       "</tbody>\n",
       "</table>\n"
      ],
      "text/latex": [
       "A tibble: 6 × 10\n",
       "\\begin{tabular}{llllllllll}\n",
       " TYPE & YEAR & MONTH & DAY & HOUR & MINUTE & HUNDRED\\_BLOCK & NEIGHBOURHOOD & X & Y\\\\\n",
       " <chr> & <dbl> & <dbl> & <dbl> & <dbl> & <dbl> & <chr> & <chr> & <dbl> & <dbl>\\\\\n",
       "\\hline\n",
       "\t Break and Enter Commercial & 2020 & 6 & 19 &  3 & 40 & 10XX ALBERNI ST & West End & 491059.5 & 5459122\\\\\n",
       "\t Break and Enter Commercial & 2020 & 1 &  3 &  6 & 43 & 10XX ALBERNI ST & West End & 491068.7 & 5459126\\\\\n",
       "\t Break and Enter Commercial & 2020 & 9 & 27 & 20 &  0 & 10XX ALBERNI ST & West End & 491073.1 & 5459109\\\\\n",
       "\t Break and Enter Commercial & 2020 & 6 & 28 &  6 & 50 & 10XX ALBERNI ST & West End & 491102.2 & 5459092\\\\\n",
       "\t Break and Enter Commercial & 2020 & 2 &  5 &  0 &  0 & 10XX BEACH AVE  & West End & 490227.2 & 5458210\\\\\n",
       "\t Break and Enter Commercial & 2020 & 2 & 11 & 13 & 35 & 10XX BEACH AVE  & West End & 490227.2 & 5458210\\\\\n",
       "\\end{tabular}\n"
      ],
      "text/markdown": [
       "\n",
       "A tibble: 6 × 10\n",
       "\n",
       "| TYPE &lt;chr&gt; | YEAR &lt;dbl&gt; | MONTH &lt;dbl&gt; | DAY &lt;dbl&gt; | HOUR &lt;dbl&gt; | MINUTE &lt;dbl&gt; | HUNDRED_BLOCK &lt;chr&gt; | NEIGHBOURHOOD &lt;chr&gt; | X &lt;dbl&gt; | Y &lt;dbl&gt; |\n",
       "|---|---|---|---|---|---|---|---|---|---|\n",
       "| Break and Enter Commercial | 2020 | 6 | 19 |  3 | 40 | 10XX ALBERNI ST | West End | 491059.5 | 5459122 |\n",
       "| Break and Enter Commercial | 2020 | 1 |  3 |  6 | 43 | 10XX ALBERNI ST | West End | 491068.7 | 5459126 |\n",
       "| Break and Enter Commercial | 2020 | 9 | 27 | 20 |  0 | 10XX ALBERNI ST | West End | 491073.1 | 5459109 |\n",
       "| Break and Enter Commercial | 2020 | 6 | 28 |  6 | 50 | 10XX ALBERNI ST | West End | 491102.2 | 5459092 |\n",
       "| Break and Enter Commercial | 2020 | 2 |  5 |  0 |  0 | 10XX BEACH AVE  | West End | 490227.2 | 5458210 |\n",
       "| Break and Enter Commercial | 2020 | 2 | 11 | 13 | 35 | 10XX BEACH AVE  | West End | 490227.2 | 5458210 |\n",
       "\n"
      ],
      "text/plain": [
       "  TYPE                       YEAR MONTH DAY HOUR MINUTE HUNDRED_BLOCK  \n",
       "1 Break and Enter Commercial 2020 6     19   3   40     10XX ALBERNI ST\n",
       "2 Break and Enter Commercial 2020 1      3   6   43     10XX ALBERNI ST\n",
       "3 Break and Enter Commercial 2020 9     27  20    0     10XX ALBERNI ST\n",
       "4 Break and Enter Commercial 2020 6     28   6   50     10XX ALBERNI ST\n",
       "5 Break and Enter Commercial 2020 2      5   0    0     10XX BEACH AVE \n",
       "6 Break and Enter Commercial 2020 2     11  13   35     10XX BEACH AVE \n",
       "  NEIGHBOURHOOD X        Y      \n",
       "1 West End      491059.5 5459122\n",
       "2 West End      491068.7 5459126\n",
       "3 West End      491073.1 5459109\n",
       "4 West End      491102.2 5459092\n",
       "5 West End      490227.2 5458210\n",
       "6 West End      490227.2 5458210"
      ]
     },
     "metadata": {},
     "output_type": "display_data"
    }
   ],
   "source": [
    "#The datasets are downloaded from https://geodash.vpd.ca/opendata/#\n",
    "#crimedata_all_2018 refers to all crimes in all neighbourhoods that occured in 2018\n",
    "#crimedata_all_2020 refers to all crimes in all neighbourhoods that occured in 2020\n",
    "#The datasets were uploaded to github, where the raw csv can be read through a url\n",
    "\n",
    "crimedata_all_2018 <- read_csv(url(\"https://raw.githubusercontent.com/Krithik1/STAT_201_PROJECT/main/crimedata_csv_AllNeighbourhoods_2018.csv\"))\n",
    "crimedata_all_2020 <- read_csv(url(\"https://raw.githubusercontent.com/Krithik1/STAT_201_PROJECT/main/crimedata_csv_AllNeighbourhoods_2020.csv\"))\n",
    "\n",
    "\n",
    "head(crimedata_all_2018)\n",
    "head(crimedata_all_2020)\n"
   ]
  },
  {
   "cell_type": "code",
   "execution_count": 5,
   "id": "952e3180-f3dc-47df-bf0e-03d2c2f5bbf0",
   "metadata": {},
   "outputs": [
    {
     "data": {
      "text/html": [
       "<table class=\"dataframe\">\n",
       "<caption>A tibble: 11 × 2</caption>\n",
       "<thead>\n",
       "\t<tr><th scope=col>TYPE</th><th scope=col>n</th></tr>\n",
       "\t<tr><th scope=col>&lt;chr&gt;</th><th scope=col>&lt;int&gt;</th></tr>\n",
       "</thead>\n",
       "<tbody>\n",
       "\t<tr><td>Break and Enter Commercial                            </td><td> 2020</td></tr>\n",
       "\t<tr><td>Break and Enter Residential/Other                     </td><td> 2390</td></tr>\n",
       "\t<tr><td>Homicide                                              </td><td>   15</td></tr>\n",
       "\t<tr><td>Mischief                                              </td><td> 5719</td></tr>\n",
       "\t<tr><td>Offence Against a Person                              </td><td> 3086</td></tr>\n",
       "\t<tr><td>Other Theft                                           </td><td>11253</td></tr>\n",
       "\t<tr><td>Theft from Vehicle                                    </td><td>14996</td></tr>\n",
       "\t<tr><td>Theft of Bicycle                                      </td><td> 2167</td></tr>\n",
       "\t<tr><td>Theft of Vehicle                                      </td><td> 1145</td></tr>\n",
       "\t<tr><td>Vehicle Collision or Pedestrian Struck (with Fatality)</td><td>   13</td></tr>\n",
       "\t<tr><td>Vehicle Collision or Pedestrian Struck (with Injury)  </td><td> 1476</td></tr>\n",
       "</tbody>\n",
       "</table>\n"
      ],
      "text/latex": [
       "A tibble: 11 × 2\n",
       "\\begin{tabular}{ll}\n",
       " TYPE & n\\\\\n",
       " <chr> & <int>\\\\\n",
       "\\hline\n",
       "\t Break and Enter Commercial                             &  2020\\\\\n",
       "\t Break and Enter Residential/Other                      &  2390\\\\\n",
       "\t Homicide                                               &    15\\\\\n",
       "\t Mischief                                               &  5719\\\\\n",
       "\t Offence Against a Person                               &  3086\\\\\n",
       "\t Other Theft                                            & 11253\\\\\n",
       "\t Theft from Vehicle                                     & 14996\\\\\n",
       "\t Theft of Bicycle                                       &  2167\\\\\n",
       "\t Theft of Vehicle                                       &  1145\\\\\n",
       "\t Vehicle Collision or Pedestrian Struck (with Fatality) &    13\\\\\n",
       "\t Vehicle Collision or Pedestrian Struck (with Injury)   &  1476\\\\\n",
       "\\end{tabular}\n"
      ],
      "text/markdown": [
       "\n",
       "A tibble: 11 × 2\n",
       "\n",
       "| TYPE &lt;chr&gt; | n &lt;int&gt; |\n",
       "|---|---|\n",
       "| Break and Enter Commercial                             |  2020 |\n",
       "| Break and Enter Residential/Other                      |  2390 |\n",
       "| Homicide                                               |    15 |\n",
       "| Mischief                                               |  5719 |\n",
       "| Offence Against a Person                               |  3086 |\n",
       "| Other Theft                                            | 11253 |\n",
       "| Theft from Vehicle                                     | 14996 |\n",
       "| Theft of Bicycle                                       |  2167 |\n",
       "| Theft of Vehicle                                       |  1145 |\n",
       "| Vehicle Collision or Pedestrian Struck (with Fatality) |    13 |\n",
       "| Vehicle Collision or Pedestrian Struck (with Injury)   |  1476 |\n",
       "\n"
      ],
      "text/plain": [
       "   TYPE                                                   n    \n",
       "1  Break and Enter Commercial                              2020\n",
       "2  Break and Enter Residential/Other                       2390\n",
       "3  Homicide                                                  15\n",
       "4  Mischief                                                5719\n",
       "5  Offence Against a Person                                3086\n",
       "6  Other Theft                                            11253\n",
       "7  Theft from Vehicle                                     14996\n",
       "8  Theft of Bicycle                                        2167\n",
       "9  Theft of Vehicle                                        1145\n",
       "10 Vehicle Collision or Pedestrian Struck (with Fatality)    13\n",
       "11 Vehicle Collision or Pedestrian Struck (with Injury)    1476"
      ]
     },
     "metadata": {},
     "output_type": "display_data"
    },
    {
     "data": {
      "text/html": [
       "<table class=\"dataframe\">\n",
       "<caption>A tibble: 11 × 2</caption>\n",
       "<thead>\n",
       "\t<tr><th scope=col>TYPE</th><th scope=col>n</th></tr>\n",
       "\t<tr><th scope=col>&lt;chr&gt;</th><th scope=col>&lt;int&gt;</th></tr>\n",
       "</thead>\n",
       "<tbody>\n",
       "\t<tr><td>Break and Enter Commercial                            </td><td> 2787</td></tr>\n",
       "\t<tr><td>Break and Enter Residential/Other                     </td><td> 2083</td></tr>\n",
       "\t<tr><td>Homicide                                              </td><td>   19</td></tr>\n",
       "\t<tr><td>Mischief                                              </td><td> 6113</td></tr>\n",
       "\t<tr><td>Offence Against a Person                              </td><td> 3738</td></tr>\n",
       "\t<tr><td>Other Theft                                           </td><td> 8649</td></tr>\n",
       "\t<tr><td>Theft from Vehicle                                    </td><td>10426</td></tr>\n",
       "\t<tr><td>Theft of Bicycle                                      </td><td> 1987</td></tr>\n",
       "\t<tr><td>Theft of Vehicle                                      </td><td>  853</td></tr>\n",
       "\t<tr><td>Vehicle Collision or Pedestrian Struck (with Fatality)</td><td>    8</td></tr>\n",
       "\t<tr><td>Vehicle Collision or Pedestrian Struck (with Injury)  </td><td>  853</td></tr>\n",
       "</tbody>\n",
       "</table>\n"
      ],
      "text/latex": [
       "A tibble: 11 × 2\n",
       "\\begin{tabular}{ll}\n",
       " TYPE & n\\\\\n",
       " <chr> & <int>\\\\\n",
       "\\hline\n",
       "\t Break and Enter Commercial                             &  2787\\\\\n",
       "\t Break and Enter Residential/Other                      &  2083\\\\\n",
       "\t Homicide                                               &    19\\\\\n",
       "\t Mischief                                               &  6113\\\\\n",
       "\t Offence Against a Person                               &  3738\\\\\n",
       "\t Other Theft                                            &  8649\\\\\n",
       "\t Theft from Vehicle                                     & 10426\\\\\n",
       "\t Theft of Bicycle                                       &  1987\\\\\n",
       "\t Theft of Vehicle                                       &   853\\\\\n",
       "\t Vehicle Collision or Pedestrian Struck (with Fatality) &     8\\\\\n",
       "\t Vehicle Collision or Pedestrian Struck (with Injury)   &   853\\\\\n",
       "\\end{tabular}\n"
      ],
      "text/markdown": [
       "\n",
       "A tibble: 11 × 2\n",
       "\n",
       "| TYPE &lt;chr&gt; | n &lt;int&gt; |\n",
       "|---|---|\n",
       "| Break and Enter Commercial                             |  2787 |\n",
       "| Break and Enter Residential/Other                      |  2083 |\n",
       "| Homicide                                               |    19 |\n",
       "| Mischief                                               |  6113 |\n",
       "| Offence Against a Person                               |  3738 |\n",
       "| Other Theft                                            |  8649 |\n",
       "| Theft from Vehicle                                     | 10426 |\n",
       "| Theft of Bicycle                                       |  1987 |\n",
       "| Theft of Vehicle                                       |   853 |\n",
       "| Vehicle Collision or Pedestrian Struck (with Fatality) |     8 |\n",
       "| Vehicle Collision or Pedestrian Struck (with Injury)   |   853 |\n",
       "\n"
      ],
      "text/plain": [
       "   TYPE                                                   n    \n",
       "1  Break and Enter Commercial                              2787\n",
       "2  Break and Enter Residential/Other                       2083\n",
       "3  Homicide                                                  19\n",
       "4  Mischief                                                6113\n",
       "5  Offence Against a Person                                3738\n",
       "6  Other Theft                                             8649\n",
       "7  Theft from Vehicle                                     10426\n",
       "8  Theft of Bicycle                                        1987\n",
       "9  Theft of Vehicle                                         853\n",
       "10 Vehicle Collision or Pedestrian Struck (with Fatality)     8\n",
       "11 Vehicle Collision or Pedestrian Struck (with Injury)     853"
      ]
     },
     "metadata": {},
     "output_type": "display_data"
    }
   ],
   "source": [
    "\n",
    "crimedata_all_2018 %>% group_by(TYPE) %>% summarise(n = n())\n",
    "crimedata_all_2020 %>% group_by(TYPE) %>% summarise(n = n())"
   ]
  },
  {
   "cell_type": "markdown",
   "id": "3ea26d94-cb37-4299-a318-bd668bfa509a",
   "metadata": {},
   "source": [
    "### METHODS: PLAN"
   ]
  },
  {
   "cell_type": "code",
   "execution_count": null,
   "id": "2db66587-2f8a-48e0-83a8-1128c8b947f3",
   "metadata": {},
   "outputs": [],
   "source": []
  },
  {
   "cell_type": "markdown",
   "id": "b52d97e8-fd31-4454-9d03-e599a93b55a1",
   "metadata": {},
   "source": [
    "### REFERENCES"
   ]
  },
  {
   "cell_type": "markdown",
   "id": "c2be5c35-2c0b-4da5-922f-a29c221d08cb",
   "metadata": {},
   "source": [
    "(1) https://www.sfu.ca/sfunews/stories/2022/01/covid-19---the-impact-on-crime-in-vancouver--sfu-expert-availabl.html\n",
    "\n",
    "(Study from (1)) https://www.ncbi.nlm.nih.gov/pmc/articles/PMC8742714/"
   ]
  },
  {
   "cell_type": "code",
   "execution_count": null,
   "id": "0cae6b9a-ba8a-4501-bb8e-48d8fe2d0ebf",
   "metadata": {},
   "outputs": [],
   "source": []
  }
 ],
 "metadata": {
  "kernelspec": {
   "display_name": "R",
   "language": "R",
   "name": "ir"
  },
  "language_info": {
   "codemirror_mode": "r",
   "file_extension": ".r",
   "mimetype": "text/x-r-source",
   "name": "R",
   "pygments_lexer": "r",
   "version": "4.1.3"
  }
 },
 "nbformat": 4,
 "nbformat_minor": 5
}
