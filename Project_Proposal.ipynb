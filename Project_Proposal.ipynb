{
 "cells": [
  {
   "cell_type": "markdown",
   "id": "161ed1d5-ce56-49ed-abb5-8ef1732b969e",
   "metadata": {},
   "source": [
    "# PROJECT PROPOSAL"
   ]
  },
  {
   "cell_type": "code",
   "execution_count": null,
   "id": "9519e527-e326-4920-9018-a615cde8430a",
   "metadata": {},
   "outputs": [],
   "source": []
  }
 ],
 "metadata": {
  "kernelspec": {
   "display_name": "R",
   "language": "R",
   "name": "ir"
  },
  "language_info": {
   "codemirror_mode": "r",
   "file_extension": ".r",
   "mimetype": "text/x-r-source",
   "name": "R",
   "pygments_lexer": "r",
   "version": "4.1.3"
  }
 },
 "nbformat": 4,
 "nbformat_minor": 5
}
